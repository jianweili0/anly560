{
 "cells": [
  {
   "cell_type": "code",
   "execution_count": 11,
   "metadata": {
    "ExecuteTime": {
     "end_time": "2020-09-22T22:26:44.579939Z",
     "start_time": "2020-09-22T22:26:15.465672Z"
    }
   },
   "outputs": [
    {
     "name": "stdout",
     "output_type": "stream",
     "text": [
      "Requirement already satisfied: pandasql==0.7.3 in c:\\programdata\\anaconda3\\lib\\site-packages (0.7.3)\n",
      "Requirement already satisfied: sqlalchemy in c:\\programdata\\anaconda3\\lib\\site-packages (from pandasql==0.7.3) (1.3.9)\n",
      "Requirement already satisfied: pandas in c:\\programdata\\anaconda3\\lib\\site-packages (from pandasql==0.7.3) (0.25.1)\n",
      "Requirement already satisfied: numpy in c:\\programdata\\anaconda3\\lib\\site-packages (from pandasql==0.7.3) (1.16.5)\n",
      "Requirement already satisfied: pytz>=2017.2 in c:\\programdata\\anaconda3\\lib\\site-packages (from pandas->pandasql==0.7.3) (2019.3)\n",
      "Requirement already satisfied: python-dateutil>=2.6.1 in c:\\programdata\\anaconda3\\lib\\site-packages (from pandas->pandasql==0.7.3) (2.8.0)\n",
      "Requirement already satisfied: six>=1.5 in c:\\programdata\\anaconda3\\lib\\site-packages (from python-dateutil>=2.6.1->pandas->pandasql==0.7.3) (1.12.0)\n"
     ]
    },
    {
     "name": "stderr",
     "output_type": "stream",
     "text": [
      "WARNING: You are using pip version 20.1.1; however, version 20.2.3 is available.\n",
      "You should consider upgrading via the 'c:\\programdata\\anaconda3\\python.exe -m pip install --upgrade pip' command.\n"
     ]
    },
    {
     "name": "stdout",
     "output_type": "stream",
     "text": [
      "Requirement already satisfied: pymysql in c:\\programdata\\anaconda3\\lib\\site-packages (0.10.1)\n"
     ]
    },
    {
     "name": "stderr",
     "output_type": "stream",
     "text": [
      "WARNING: You are using pip version 20.1.1; however, version 20.2.3 is available.\n",
      "You should consider upgrading via the 'c:\\programdata\\anaconda3\\python.exe -m pip install --upgrade pip' command.\n"
     ]
    },
    {
     "name": "stdout",
     "output_type": "stream",
     "text": [
      "Collecting results\n",
      "  Downloading results-0.1.1588569394-py3-none-any.whl (20 kB)\n",
      "Collecting sqlbag>=0.1.1548994599\n",
      "  Downloading sqlbag-0.1.1579049654-py2.py3-none-any.whl (14 kB)\n",
      "Collecting furl\n",
      "  Downloading furl-2.1.0-py2.py3-none-any.whl (20 kB)\n",
      "Collecting logx\n",
      "  Downloading logx-0.1.1579232358-py2.py3-none-any.whl (4.7 kB)\n",
      "Requirement already satisfied: chardet in c:\\programdata\\anaconda3\\lib\\site-packages (from results) (3.0.4)\n",
      "Requirement already satisfied: pendulum in c:\\programdata\\anaconda3\\lib\\site-packages (from results) (1.4.4)\n",
      "Collecting psycopg2-binary\n",
      "  Downloading psycopg2_binary-2.8.6-cp37-cp37m-win_amd64.whl (1.1 MB)\n",
      "Requirement already satisfied: tabulate in c:\\programdata\\anaconda3\\lib\\site-packages (from results) (0.8.6)\n",
      "Requirement already satisfied: markdown in c:\\programdata\\anaconda3\\lib\\site-packages (from results) (2.6.11)\n",
      "Requirement already satisfied: sqlalchemy>=1.3 in c:\\programdata\\anaconda3\\lib\\site-packages (from results) (1.3.9)\n",
      "Collecting migra\n",
      "  Downloading migra-1.0.1599083968-py2.py3-none-any.whl (9.7 kB)\n",
      "Requirement already satisfied: six in c:\\programdata\\anaconda3\\lib\\site-packages (from sqlbag>=0.1.1548994599->results) (1.12.0)\n",
      "Collecting pathlib\n",
      "  Downloading pathlib-1.0.1.tar.gz (49 kB)\n",
      "Collecting orderedmultidict>=1.0.1\n",
      "  Downloading orderedmultidict-1.0.1-py2.py3-none-any.whl (11 kB)\n",
      "Requirement already satisfied: pyyaml in c:\\programdata\\anaconda3\\lib\\site-packages (from logx->results) (5.1.2)\n",
      "Collecting logging_tree\n",
      "  Downloading logging_tree-1.8.1-py2.py3-none-any.whl (11 kB)\n",
      "Requirement already satisfied: tzlocal<2.0.0.0,>=1.5.0.0 in c:\\programdata\\anaconda3\\lib\\site-packages (from pendulum->results) (1.5.1)\n",
      "Requirement already satisfied: pytzdata>=2018.3.0.0 in c:\\programdata\\anaconda3\\lib\\site-packages (from pendulum->results) (2019.3)\n",
      "Requirement already satisfied: python-dateutil<3.0.0.0,>=2.6.0.0 in c:\\programdata\\anaconda3\\lib\\site-packages (from pendulum->results) (2.8.0)\n",
      "Collecting schemainspect>=0.1.1597727684\n",
      "  Downloading schemainspect-0.1.1599464781-py2.py3-none-any.whl (33 kB)\n",
      "Requirement already satisfied: pytz in c:\\programdata\\anaconda3\\lib\\site-packages (from tzlocal<2.0.0.0,>=1.5.0.0->pendulum->results) (2019.3)\n",
      "Building wheels for collected packages: pathlib\n",
      "  Building wheel for pathlib (setup.py): started\n",
      "  Building wheel for pathlib (setup.py): finished with status 'done'\n",
      "  Created wheel for pathlib: filename=pathlib-1.0.1-py3-none-any.whl size=14352 sha256=332f6058fc3bb71c431b6614092355a8215cf696680b81fdc6c6428709e5142b\n",
      "  Stored in directory: c:\\users\\jianwei li\\appdata\\local\\pip\\cache\\wheels\\6e\\96\\b8\\10037fe231e23970bac58361d7c93571ab983a7bbc55e68550\n",
      "Successfully built pathlib\n",
      "Installing collected packages: pathlib, sqlbag, orderedmultidict, furl, logging-tree, logx, psycopg2-binary, schemainspect, migra, results\n",
      "Successfully installed furl-2.1.0 logging-tree-1.8.1 logx-0.1.1579232358 migra-1.0.1599083968 orderedmultidict-1.0.1 pathlib-1.0.1 psycopg2-binary-2.8.6 results-0.1.1588569394 schemainspect-0.1.1599464781 sqlbag-0.1.1579049654\n"
     ]
    },
    {
     "name": "stderr",
     "output_type": "stream",
     "text": [
      "WARNING: You are using pip version 20.1.1; however, version 20.2.3 is available.\n",
      "You should consider upgrading via the 'c:\\programdata\\anaconda3\\python.exe -m pip install --upgrade pip' command.\n"
     ]
    }
   ],
   "source": [
    "!pip install pandasql==0.7.3\n",
    "!pip install pymysql\n",
    "!pip install results\n",
    "!pip install myconnutils"
   ]
  },
  {
   "cell_type": "code",
   "execution_count": 42,
   "metadata": {
    "ExecuteTime": {
     "end_time": "2020-09-22T22:42:20.287812Z",
     "start_time": "2020-09-22T22:42:19.660825Z"
    }
   },
   "outputs": [
    {
     "data": {
      "text/html": [
       "<div>\n",
       "<style scoped>\n",
       "    .dataframe tbody tr th:only-of-type {\n",
       "        vertical-align: middle;\n",
       "    }\n",
       "\n",
       "    .dataframe tbody tr th {\n",
       "        vertical-align: top;\n",
       "    }\n",
       "\n",
       "    .dataframe thead th {\n",
       "        text-align: right;\n",
       "    }\n",
       "</style>\n",
       "<table border=\"1\" class=\"dataframe\">\n",
       "  <thead>\n",
       "    <tr style=\"text-align: right;\">\n",
       "      <th></th>\n",
       "      <th>imbdId</th>\n",
       "      <th>Imdb_Link</th>\n",
       "      <th>Title</th>\n",
       "      <th>IMDB_Score</th>\n",
       "      <th>Genre</th>\n",
       "      <th>Poster</th>\n",
       "    </tr>\n",
       "  </thead>\n",
       "  <tbody>\n",
       "    <tr>\n",
       "      <td>0</td>\n",
       "      <td>185906</td>\n",
       "      <td>http://www.imdb.com/title/tt185906</td>\n",
       "      <td>Band of Brothers</td>\n",
       "      <td>9.5</td>\n",
       "      <td>Action|Drama|History</td>\n",
       "      <td>https://images-na.ssl-images-amazon.com/images...</td>\n",
       "    </tr>\n",
       "    <tr>\n",
       "      <td>1</td>\n",
       "      <td>252487</td>\n",
       "      <td>http://www.imdb.com/title/tt252487</td>\n",
       "      <td>Hababam Sinifi (1975)</td>\n",
       "      <td>9.5</td>\n",
       "      <td>Comedy|Drama</td>\n",
       "      <td>https://images-na.ssl-images-amazon.com/images...</td>\n",
       "    </tr>\n",
       "    <tr>\n",
       "      <td>2</td>\n",
       "      <td>795176</td>\n",
       "      <td>http://www.imdb.com/title/tt795176</td>\n",
       "      <td>Planet Earth</td>\n",
       "      <td>9.5</td>\n",
       "      <td>Documentary</td>\n",
       "      <td>https://images-na.ssl-images-amazon.com/images...</td>\n",
       "    </tr>\n",
       "    <tr>\n",
       "      <td>3</td>\n",
       "      <td>2779318</td>\n",
       "      <td>http://www.imdb.com/title/tt2779318</td>\n",
       "      <td>The Day of the Doctor</td>\n",
       "      <td>9.4</td>\n",
       "      <td>Adventure|Drama|Family</td>\n",
       "      <td>https://images-na.ssl-images-amazon.com/images...</td>\n",
       "    </tr>\n",
       "    <tr>\n",
       "      <td>4</td>\n",
       "      <td>365559</td>\n",
       "      <td>http://www.imdb.com/title/tt365559</td>\n",
       "      <td>Nirvana</td>\n",
       "      <td>9.4</td>\n",
       "      <td>Documentary|Music</td>\n",
       "      <td>https://images-na.ssl-images-amazon.com/images...</td>\n",
       "    </tr>\n",
       "    <tr>\n",
       "      <td>5</td>\n",
       "      <td>111161</td>\n",
       "      <td>http://www.imdb.com/title/tt111161</td>\n",
       "      <td>The Shawshank Redemption (1994)</td>\n",
       "      <td>9.3</td>\n",
       "      <td>Crime|Drama</td>\n",
       "      <td>https://images-na.ssl-images-amazon.com/images...</td>\n",
       "    </tr>\n",
       "    <tr>\n",
       "      <td>6</td>\n",
       "      <td>81846</td>\n",
       "      <td>http://www.imdb.com/title/tt81846</td>\n",
       "      <td>Cosmos</td>\n",
       "      <td>9.3</td>\n",
       "      <td>Documentary</td>\n",
       "      <td>https://images-na.ssl-images-amazon.com/images...</td>\n",
       "    </tr>\n",
       "    <tr>\n",
       "      <td>7</td>\n",
       "      <td>78588</td>\n",
       "      <td>http://www.imdb.com/title/tt78588</td>\n",
       "      <td>Connections</td>\n",
       "      <td>9.3</td>\n",
       "      <td>Documentary|History</td>\n",
       "      <td>https://images-na.ssl-images-amazon.com/images...</td>\n",
       "    </tr>\n",
       "    <tr>\n",
       "      <td>8</td>\n",
       "      <td>5311546</td>\n",
       "      <td>http://www.imdb.com/title/tt5311546</td>\n",
       "      <td>Natsamrat (2016)</td>\n",
       "      <td>9.3</td>\n",
       "      <td>Drama|Family</td>\n",
       "      <td>https://images-na.ssl-images-amazon.com/images...</td>\n",
       "    </tr>\n",
       "    <tr>\n",
       "      <td>9</td>\n",
       "      <td>68646</td>\n",
       "      <td>http://www.imdb.com/title/tt68646</td>\n",
       "      <td>The Godfather (1972)</td>\n",
       "      <td>9.2</td>\n",
       "      <td>Crime|Drama</td>\n",
       "      <td>https://images-na.ssl-images-amazon.com/images...</td>\n",
       "    </tr>\n",
       "  </tbody>\n",
       "</table>\n",
       "</div>"
      ],
      "text/plain": [
       "    imbdId                            Imdb_Link  \\\n",
       "0   185906   http://www.imdb.com/title/tt185906   \n",
       "1   252487   http://www.imdb.com/title/tt252487   \n",
       "2   795176   http://www.imdb.com/title/tt795176   \n",
       "3  2779318  http://www.imdb.com/title/tt2779318   \n",
       "4   365559   http://www.imdb.com/title/tt365559   \n",
       "5   111161   http://www.imdb.com/title/tt111161   \n",
       "6    81846    http://www.imdb.com/title/tt81846   \n",
       "7    78588    http://www.imdb.com/title/tt78588   \n",
       "8  5311546  http://www.imdb.com/title/tt5311546   \n",
       "9    68646    http://www.imdb.com/title/tt68646   \n",
       "\n",
       "                             Title  IMDB_Score                   Genre  \\\n",
       "0                 Band of Brothers         9.5    Action|Drama|History   \n",
       "1            Hababam Sinifi (1975)         9.5            Comedy|Drama   \n",
       "2                     Planet Earth         9.5             Documentary   \n",
       "3            The Day of the Doctor         9.4  Adventure|Drama|Family   \n",
       "4                          Nirvana         9.4       Documentary|Music   \n",
       "5  The Shawshank Redemption (1994)         9.3             Crime|Drama   \n",
       "6                           Cosmos         9.3             Documentary   \n",
       "7                      Connections         9.3     Documentary|History   \n",
       "8                 Natsamrat (2016)         9.3            Drama|Family   \n",
       "9             The Godfather (1972)         9.2             Crime|Drama   \n",
       "\n",
       "                                              Poster  \n",
       "0  https://images-na.ssl-images-amazon.com/images...  \n",
       "1  https://images-na.ssl-images-amazon.com/images...  \n",
       "2  https://images-na.ssl-images-amazon.com/images...  \n",
       "3  https://images-na.ssl-images-amazon.com/images...  \n",
       "4  https://images-na.ssl-images-amazon.com/images...  \n",
       "5  https://images-na.ssl-images-amazon.com/images...  \n",
       "6  https://images-na.ssl-images-amazon.com/images...  \n",
       "7  https://images-na.ssl-images-amazon.com/images...  \n",
       "8  https://images-na.ssl-images-amazon.com/images...  \n",
       "9  https://images-na.ssl-images-amazon.com/images...  "
      ]
     },
     "execution_count": 42,
     "metadata": {},
     "output_type": "execute_result"
    }
   ],
   "source": [
    "import pandas as pd\n",
    "import pandasql as ps\n",
    "\n",
    "movie = pd.read_csv('MovieGenre.csv',encoding = \"ISO-8859-1\")\n",
    "query = \"\"\" SELECT * from movie where IMDB_Score>7 ORDER BY IMDB_Score DESC LIMIT 10\"\"\"\n",
    "\n",
    "movie.columns = ['imbdId','Imdb_Link','Title','IMDB_Score','Genre','Poster']\n",
    "output = ps.sqldf(query)\n",
    "output"
   ]
  },
  {
   "cell_type": "code",
   "execution_count": null,
   "metadata": {},
   "outputs": [],
   "source": []
  }
 ],
 "metadata": {
  "kernelspec": {
   "display_name": "Python 3",
   "language": "python",
   "name": "python3"
  },
  "language_info": {
   "codemirror_mode": {
    "name": "ipython",
    "version": 3
   },
   "file_extension": ".py",
   "mimetype": "text/x-python",
   "name": "python",
   "nbconvert_exporter": "python",
   "pygments_lexer": "ipython3",
   "version": "3.7.4"
  },
  "toc": {
   "base_numbering": 1,
   "nav_menu": {},
   "number_sections": true,
   "sideBar": true,
   "skip_h1_title": false,
   "title_cell": "Table of Contents",
   "title_sidebar": "Contents",
   "toc_cell": false,
   "toc_position": {},
   "toc_section_display": true,
   "toc_window_display": false
  }
 },
 "nbformat": 4,
 "nbformat_minor": 2
}
